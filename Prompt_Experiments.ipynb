{
 "cells": [
  {
   "cell_type": "markdown",
   "id": "e20d6f0d-38ad-4176-80af-e6a897db13d2",
   "metadata": {},
   "source": [
    "# Fortran to Rust"
   ]
  },
  {
   "cell_type": "markdown",
   "id": "c5f4801c-0550-4f15-8e1a-f0bcc95866cc",
   "metadata": {},
   "source": [
    "### Prompt 1:\n",
    "\n",
    "Direct Approach \n",
    "\n",
    "Convert the following Fortran code to Rust, maintaining the same functionality and structure:\n",
    "\n",
    "[Insert Fortran Code Here]\n"
   ]
  },
  {
   "cell_type": "markdown",
   "id": "66712529-bf90-45e1-84eb-ca7f50f02dbf",
   "metadata": {
    "jp-MarkdownHeadingCollapsed": true
   },
   "source": [
    "### Prompt 2:\n",
    "\n",
    "Semantic Understanding\n",
    "\n",
    "Explain the functionality of the following Fortran code in detail:\n",
    "\n",
    "[Insert Fortran Code Here]\n",
    "\n",
    "Then, based on the explanation, provide an equivalent Rust code implementation.\n"
   ]
  },
  {
   "cell_type": "markdown",
   "id": "f9935b37-bb10-4d0b-9b51-741bb2954980",
   "metadata": {},
   "source": [
    "### Prompt 3:\n",
    "\n",
    "Incremental Understanding\n",
    "\n",
    "Convert the following segment of Fortran code to Rust, ensuring equivalent functionality:\n",
    "\n",
    "[Insert Fortran Code Segment Here]\n",
    "\n",
    "Please focus on converting this specific part while maintaining the original logic and performance.\n"
   ]
  },
  {
   "cell_type": "markdown",
   "id": "243dd075-38cf-4f24-8cb7-4cc13ddddde0",
   "metadata": {},
   "source": [
    "### Prompt 4:\n",
    "\n",
    "Error Handling Focus\n",
    "\n",
    "Translate the following Fortran code to Rust with an emphasis on Rust's memory safety and error handling features. Ensure the translated code is idiomatic Rust and adheres to Rust's safety principles:\n",
    "\n",
    "[Insert Fortran Code Here]\n"
   ]
  },
  {
   "cell_type": "markdown",
   "id": "d2151768-97ee-42de-a788-a2a91e08535c",
   "metadata": {
    "jp-MarkdownHeadingCollapsed": true
   },
   "source": [
    "### Prompt 5:\n",
    "\n",
    "Adding a Test case \n",
    "\n",
    "Convert the following Fortran code to Rust:\n",
    "\n",
    "[Insert Fortran Code Here]\n",
    "\n",
    "Then, provide test cases in Rust that validate the functionality and correctness of the converted code, similar to the original Fortran code's behavior.\n"
   ]
  },
  {
   "cell_type": "markdown",
   "id": "85dc35cc-f742-49b3-bbd2-b1000d839c1a",
   "metadata": {},
   "source": [
    "### Prompt 6:\n",
    "\n",
    "Comparitive Analysis\n",
    "\n",
    "Provide a comparative analysis of Fortran and Rust in terms of syntax, memory management, and error handling. Then, convert the following Fortran code to Rust, highlighting the changes made due to language differences:\n",
    "\n",
    "[Insert Fortran Code Here]\n"
   ]
  },
  {
   "cell_type": "markdown",
   "id": "5a75765c-fe04-4e3d-9846-89995c17840d",
   "metadata": {},
   "source": [
    "### Prompt 7:\n",
    "\n",
    "Comparitive Code\n",
    "\n",
    "Translate the provided code snippet written in FORTRAN into RUST. Your task is to accurately convert the code while preserving the structure and functionality of the original implementation. Ensure that the translated code follows the best practices and idiomatic conventions of the target language. Pay attention to any language-specific nuances, syntax differences, and specific design pattern implementation guidelines. Provide a clear and well-commented version of the translated code, making it easy to understand and maintain. Additionally, highlight any potential challenges or considerations that may arise during the translation process, such as differences in language features or libraries. Please explain your process step by step as you translate. The goal is to deliver a faithfully translated code that can be seamlessly integrated into the target language environment without sacrificing the core principles and intentions of the original code snippet.\n",
    "\n",
    "[Insert Fortran Code Yet]"
   ]
  },
  {
   "cell_type": "code",
   "execution_count": 43,
   "id": "e863423f-c6ef-4ea6-8b82-5810a509de84",
   "metadata": {
    "scrolled": true
   },
   "outputs": [
    {
     "data": {
      "text/plain": [
       "'All prompts generated successfully into one file.'"
      ]
     },
     "execution_count": 43,
     "metadata": {},
     "output_type": "execute_result"
    }
   ],
   "source": [
    "# import os\n",
    "\n",
    "# def generate_all_prompts_to_one_file(folder_path):\n",
    "#     # Define the output file name\n",
    "#     output_file_path = os.path.join(folder_path, \"all_fortran_to_rust_prompts.txt\")\n",
    "    \n",
    "#     # Define the prompts templates\n",
    "#     prompts = [\n",
    "#         \"Direct Approach\\n\\nConvert the following Fortran code to Rust, maintaining the same functionality and structure:\\n\\n{code}\\n\\n\",\n",
    "#         \"Semantic Understanding\\n\\nExplain the functionality of the following Fortran code in detail:\\n\\n{code}\\n\\nThen, based on the explanation, provide an equivalent Rust code implementation.\\n\\n\",\n",
    "#         \"Incremental Understanding\\n\\nConvert the following segment of Fortran code to Rust, ensuring equivalent functionality:\\n\\n{code}\\n\\nPlease focus on converting this specific part while maintaining the original logic and performance.\\n\\n\",\n",
    "#         \"Error Handling Focus\\n\\nTranslate the following Fortran code to Rust with an emphasis on Rust's memory safety and error handling features. Ensure the translated code is idiomatic Rust and adheres to Rust's safety principles:\\n\\n{code}\\n\\n\",\n",
    "#         \"Adding a Test case\\n\\nConvert the following Fortran code to Rust:\\n\\n{code}\\n\\nThen, provide test cases in Rust that validate the functionality and correctness of the converted code, similar to the original Fortran code's behavior.\\n\\n\",\n",
    "#         \"Comparative Analysis\\n\\nProvide a comparative analysis of Fortran and Rust in terms of syntax, memory management, and error handling. Then, convert the following Fortran code to Rust, highlighting the changes made due to language differences:\\n\\n{code}\\n\\n\",\n",
    "#         \"Comparative Code\\n\\nTranslate the provided code snippet written in FORTRAN into RUST. Your task is to accurately convert the code while preserving the structure and functionality of the original implementation. Ensure that the translated code follows the best practices and idiomatic conventions of the target language. Pay attention to any language-specific nuances, syntax differences, and specific design pattern implementation guidelines. Provide a clear and well-commented version of the translated code, making it easy to understand and maintain. Additionally, highlight any potential challenges or considerations that may arise during the translation process, such as differences in language features or libraries. Please explain your process step by step as you translate. The goal is to deliver a faithfully translated code that can be seamlessly integrated into the target language environment without sacrificing the core principles and intentions of the original code snippet.\\n\\n{code}\\n\\n\"\n",
    "#     ]\n",
    "#     # Open the output file once and write all prompts for all files\n",
    "#     with open(output_file_path, 'w', encoding='utf-8') as f_out:\n",
    "#         # Iterate through each Fortran file in the folder\n",
    "#         for file in os.listdir(folder_path)[:20]:\n",
    "#             if file.endswith('.f') or file.endswith('.for') or file.endswith('.f90'):  # Assuming Fortran files have these extensions\n",
    "#                 file_path = os.path.join(folder_path, file)\n",
    "                \n",
    "#                 # Read the content of the Fortran file\n",
    "#                 with open(file_path, 'r', encoding='utf-8') as f:\n",
    "#                     code = f.read()\n",
    "\n",
    "#                 if len(code) < 800:\n",
    "#                     # Write file header in the output file\n",
    "#                     f_out.write(f\"Prompts for {file}:\\n\\n\")\n",
    "                    \n",
    "#                     # Write the prompts to the output file\n",
    "#                     for idx, prompt in enumerate(prompts, 1):\n",
    "#                         # Insert the code into the prompt\n",
    "#                         formatted_prompt = prompt.format(code=code)\n",
    "#                         # Write the prompt to the file\n",
    "#                         f_out.write(f\"Prompt {idx}:\\n{formatted_prompt}\\n\\n\")\n",
    "                    \n",
    "#                     # Separate sections for different files\n",
    "#                     f_out.write(f\"{'='*80}\\n\\n\")\n",
    "    \n",
    "#     return \"All prompts generated successfully into one file.\"\n",
    "\n",
    "# # Assuming the Fortran files are stored in a folder called 'fortran_files' in the current working directory\n",
    "# # Change this path as necessary for your actual file structure\n",
    "# fortran_files_folder = \"/Users/deveshsurve/UNIVERSITY/PROJECT/CODECONV/CodeConvLLM/Combined_Fortran\"\n",
    "# generate_all_prompts_to_one_file(fortran_files_folder)\n"
   ]
  },
  {
   "cell_type": "markdown",
   "id": "0b8d5ea6-2246-41b4-9daf-73b396c34c29",
   "metadata": {},
   "source": [
    "### Finalized Prompt after Testing : \n",
    "\n",
    "Examine the provided Fortran code snippet carefully. Elaborate on its functionality and purpose in detail, covering key concepts and operational mechanics.\n"
   ]
  },
  {
   "cell_type": "markdown",
   "id": "38766d78-1480-4705-89e7-6764c04263d1",
   "metadata": {},
   "source": [
    "## Creating Script to Apply prompt and store file"
   ]
  },
  {
   "cell_type": "code",
   "execution_count": 54,
   "id": "8da2a7dd-ee69-458e-8424-201ff2cd063f",
   "metadata": {},
   "outputs": [
    {
     "data": {
      "text/plain": [
       "'All prompts generated successfully into individual folders and files.'"
      ]
     },
     "execution_count": 54,
     "metadata": {},
     "output_type": "execute_result"
    }
   ],
   "source": [
    "import os\n",
    "\n",
    "def generate_prompts_for_each_file(folder_path):\n",
    "    # Iterate through each Fortran file in the folder\n",
    "    for file in os.listdir(folder_path)[:20]:\n",
    "        if file.endswith(('.f', '.for', '.f90')):  # Check for Fortran file extensions\n",
    "            file_path = os.path.join(folder_path, file)\n",
    "            # Read the content of the Fortran file\n",
    "            with open(file_path, 'r', encoding='utf-8') as f:\n",
    "                code = f.read()\n",
    "\n",
    "            if len(code) < 600:\n",
    "                # Prepare the new folder path for the current file\n",
    "                new_folder_path = os.path.join(folder_path, os.path.splitext(file)[0])\n",
    "                # Create the folder if it doesn't exist\n",
    "                os.makedirs(new_folder_path, exist_ok=True)\n",
    "\n",
    "                # Create and write the original Fortran file\n",
    "                original_filename = f'original{os.path.splitext(file)[1]}'\n",
    "                with open(os.path.join(new_folder_path, original_filename), 'w', encoding='utf-8') as original_file:\n",
    "                    original_file.write(code)\n",
    "\n",
    "                prompts = [\n",
    "                    \"Examine the provided Fortran code snippet carefully. Elaborate on its functionality and purpose in detail, covering key concepts and operational mechanics:\\n\\n'''\\n{code}'''\\n\\n\"\n",
    "                ]\n",
    "            \n",
    "                \n",
    "                # Define the base name for output files\n",
    "                base_name = os.path.splitext(file)[0]\n",
    "\n",
    "                # Names for files corresponding to each prompt, following the new naming convention\n",
    "                prompt_filenames = [\n",
    "                    f\"{base_name}-prompt-1.1.txt\",\n",
    "                ]\n",
    "\n",
    "                # Write the prompts to separate files\n",
    "                for prompt, filename in zip(prompts, prompt_filenames):\n",
    "                    # Insert the code into the prompt\n",
    "                    formatted_prompt = prompt.format(code=code)\n",
    "                    # Define the full path for the new prompt file\n",
    "                    prompt_file_path = os.path.join(new_folder_path, filename)\n",
    "                    # Write the prompt to the file\n",
    "                    with open(prompt_file_path, 'w', encoding='utf-8') as prompt_file:\n",
    "                        prompt_file.write(formatted_prompt)\n",
    "\n",
    "    return \"All prompts generated successfully into individual folders and files.\"\n",
    "\n",
    "# Set your folder path for Fortran files\n",
    "fortran_files_folder = \"/Users/deveshsurve/UNIVERSITY/PROJECT/CODECONV/CodeConvLLM/Combined_Fortran\"\n",
    "generate_prompts_for_each_file(fortran_files_folder)\n"
   ]
  },
  {
   "cell_type": "code",
   "execution_count": 52,
   "id": "0003c122-d8d4-430e-b199-fc3dc03d8fd1",
   "metadata": {},
   "outputs": [
    {
     "data": {
      "text/plain": [
       "'All prompts generated successfully into individual folders and files.'"
      ]
     },
     "execution_count": 52,
     "metadata": {},
     "output_type": "execute_result"
    }
   ],
   "source": []
  },
  {
   "cell_type": "code",
   "execution_count": null,
   "id": "57001278-f685-42e3-a5ff-49a443718042",
   "metadata": {},
   "outputs": [],
   "source": []
  }
 ],
 "metadata": {
  "kernelspec": {
   "display_name": "Python 3 (ipykernel)",
   "language": "python",
   "name": "python3"
  },
  "language_info": {
   "codemirror_mode": {
    "name": "ipython",
    "version": 3
   },
   "file_extension": ".py",
   "mimetype": "text/x-python",
   "name": "python",
   "nbconvert_exporter": "python",
   "pygments_lexer": "ipython3",
   "version": "3.11.8"
  }
 },
 "nbformat": 4,
 "nbformat_minor": 5
}
